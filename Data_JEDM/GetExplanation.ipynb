{
 "cells": [
  {
   "cell_type": "code",
   "execution_count": null,
   "id": "37c721dd-acbc-44ca-ba3d-256828fcece2",
   "metadata": {},
   "outputs": [],
   "source": [
    "from sklearn import metrics\n",
    "from sklearn.metrics import confusion_matrix\n",
    "from sklearn.metrics import classification_report\n",
    "from sklearn.neural_network import MLPClassifier\n",
    "import numpy as np\n",
    "import pandas as pd\n",
    "import matplotlib.pyplot as plt\n",
    "from sklearn.model_selection import train_test_split\n",
    "import os\n",
    "import sklearn\n",
    "import pickle\n",
    "\n",
    "import lime\n",
    "from lime import lime_tabular\n",
    "from lime import explanation\n"
   ]
  },
  {
   "cell_type": "code",
   "execution_count": null,
   "id": "828013f1-dd59-475a-ae7c-a7f37f1c8898",
   "metadata": {},
   "outputs": [],
   "source": [
    "data = pd.read_csv(\"/data.csv\")\n",
    "data.head()\n"
   ]
  },
  {
   "cell_type": "code",
   "execution_count": null,
   "id": "ebf21b35-d7be-423d-9ef6-80f19ff5073d",
   "metadata": {},
   "outputs": [],
   "source": [
    "y = data[\"Dropout\"]\n",
    "X = data.drop(['Dropout'], axis=1)"
   ]
  },
  {
   "cell_type": "code",
   "execution_count": null,
   "id": "ba335f89-0b49-4ec9-bc18-b1e5871da02c",
   "metadata": {},
   "outputs": [],
   "source": [
    "X_train, X_test, y_train, y_test = train_test_split(X, y, test_size=0.1, random_state=42)"
   ]
  },
  {
   "cell_type": "code",
   "execution_count": null,
   "id": "1278c22d-dabf-4903-b2cd-b64e1d8f3485",
   "metadata": {},
   "outputs": [],
   "source": [
    "X_test2 = X_test\n",
    "X_test_all = X_test2.join(y_test)\n",
    "X_test_all = X_test_all[X_test_all[\"Dropout\"] == 1]\n",
    "X_test_all.to_csv(\"Test.csv\")\n",
    "\n",
    "y_testtp = X_test_all[\"Dropout\"]\n",
    "X_testtp = X_test_all.drop(['Dropout'], axis=1)"
   ]
  },
  {
   "cell_type": "code",
   "execution_count": null,
   "id": "17509fd9-171d-4536-9680-c4d2b9b96138",
   "metadata": {},
   "outputs": [],
   "source": [
    "explainer = lime_tabular.LimeTabularExplainer(\n",
    "    training_data=np.array(X_train),\n",
    "    feature_names=X_train.columns,\n",
    "    class_names=['no_dropout', 'dropout'],\n",
    "    mode='classification'\n",
    ")"
   ]
  },
  {
   "cell_type": "code",
   "execution_count": null,
   "id": "95f90786-c28b-4345-9d5a-939fe68958f0",
   "metadata": {},
   "outputs": [],
   "source": [
    "### Just an example - can be used with any model\n",
    "\n",
    "mlp = MLPClassifier(random_state=1, max_iter=1000).fit(X_train, y_train)\n",
    "y_pred = mlp.predict(X_test)\n",
    "\n",
    "print(\"Accuracy:\",metrics.accuracy_score(y_test, y_pred))\n",
    "matrix = classification_report(y_test, y_pred)\n",
    "print('Classification report : \\n',matrix)"
   ]
  },
  {
   "cell_type": "code",
   "execution_count": null,
   "id": "f742fafe",
   "metadata": {},
   "outputs": [],
   "source": [
    "pred_mlp = mlp.predict(X_test)\n",
    "\n",
    "all_exp = []\n",
    "for i in range(len(X_test)):\n",
    "    X_t = X_test.iloc[i]\n",
    "    p_t = pred_mlp[i]\n",
    "    exp = explainer.explain_instance(X_t, mlp.predict_proba, num_features=10)\n",
    "    a = exp.as_list()\n",
    "    a2 = []\n",
    "    for j in a:\n",
    "        id_val = (i,)\n",
    "        pt_val = (p_t,)\n",
    "        s = j+id_val\n",
    "        m = s+pt_val\n",
    "        a2.append(m)\n",
    "    all_exp.append(a2)\n",
    "\n",
    "exp_df = pd.DataFrame(all_exp)\n",
    "\n",
    "exp_df.to_csv(\"/Exp.csv\")"
   ]
  },
  {
   "cell_type": "code",
   "execution_count": null,
   "id": "47ae869f",
   "metadata": {},
   "outputs": [],
   "source": [
    "filename = '/model_mlp.sav'\n",
    "pickle.dump(mlp, open(filename, 'wb'))"
   ]
  },
  {
   "cell_type": "code",
   "execution_count": null,
   "id": "213cb63d",
   "metadata": {},
   "outputs": [],
   "source": []
  },
  {
   "cell_type": "code",
   "execution_count": null,
   "id": "873d2f8f-79c5-4073-b195-7b8591d7a0d3",
   "metadata": {},
   "outputs": [],
   "source": []
  }
 ],
 "metadata": {
  "kernelspec": {
   "display_name": "Python 3.8.8 ('base')",
   "language": "python",
   "name": "python3"
  },
  "language_info": {
   "codemirror_mode": {
    "name": "ipython",
    "version": 3
   },
   "file_extension": ".py",
   "mimetype": "text/x-python",
   "name": "python",
   "nbconvert_exporter": "python",
   "pygments_lexer": "ipython3",
   "version": "3.8.8"
  },
  "vscode": {
   "interpreter": {
    "hash": "611e66f1cb21c51f3e034a5413b8ddce774c16d41446937d177d24010452f872"
   }
  }
 },
 "nbformat": 4,
 "nbformat_minor": 5
}
